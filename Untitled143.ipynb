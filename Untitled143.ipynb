{
  "nbformat": 4,
  "nbformat_minor": 0,
  "metadata": {
    "colab": {
      "name": "Untitled143.ipynb",
      "provenance": [],
      "collapsed_sections": []
    },
    "kernelspec": {
      "name": "python3",
      "display_name": "Python 3"
    },
    "accelerator": "TPU"
  },
  "cells": [
    {
      "cell_type": "code",
      "metadata": {
        "id": "zaZl3Kuc1qVA"
      },
      "source": [
        "import os,re,time,json\r\n",
        "import PIL.Image,PIL.ImageFont,PIL.ImageDraw\r\n",
        "import numpy as np\r\n",
        "import tensorflow_datasets as tfds\r\n",
        "import tensorflow as tf\r\n",
        "import matplotlib.pyplot as plt"
      ],
      "execution_count": null,
      "outputs": []
    },
    {
      "cell_type": "code",
      "metadata": {
        "id": "CEMCl7au3_Df"
      },
      "source": [
        "im_width = 75\r\n",
        "im_height = 75\r\n",
        "use_normalized_coordinates = True\r\n",
        "\r\n",
        "def draw_bounding_boxes_on_image_array(image,\r\n",
        "                                       boxes,\r\n",
        "                                       color=[],\r\n",
        "                                       thickness=1,\r\n",
        "                                       display_str_list=()):\r\n",
        "  \"\"\"Draws bounding boxes on image (numpy array).\r\n",
        "  Args:\r\n",
        "    image: a numpy array object.\r\n",
        "    boxes: a 2 dimensional numpy array of [N, 4]: (ymin, xmin, ymax, xmax).\r\n",
        "           The coordinates are in normalized format between [0, 1].\r\n",
        "    color: color to draw bounding box. Default is red.\r\n",
        "    thickness: line thickness. Default value is 4.\r\n",
        "    display_str_list_list: a list of strings for each bounding box.\r\n",
        "  Raises:\r\n",
        "    ValueError: if boxes is not a [N, 4] array\r\n",
        "  \"\"\"\r\n",
        "  image_pil = PIL.Image.fromarray(image)\r\n",
        "  rgbimg = PIL.Image.new(\"RGBA\", image_pil.size)\r\n",
        "  rgbimg.paste(image_pil)\r\n",
        "  draw_bounding_boxes_on_image(rgbimg, boxes, color, thickness,\r\n",
        "                               display_str_list)\r\n",
        "  return np.array(rgbimg)\r\n",
        "  \r\n",
        "\r\n",
        "def draw_bounding_boxes_on_image(image,\r\n",
        "                                 boxes,\r\n",
        "                                 color=[],\r\n",
        "                                 thickness=1,\r\n",
        "                                 display_str_list=()):\r\n",
        "  \"\"\"Draws bounding boxes on image.\r\n",
        "  Args:\r\n",
        "    image: a PIL.Image object.\r\n",
        "    boxes: a 2 dimensional numpy array of [N, 4]: (ymin, xmin, ymax, xmax).\r\n",
        "           The coordinates are in normalized format between [0, 1].\r\n",
        "    color: color to draw bounding box. Default is red.\r\n",
        "    thickness: line thickness. Default value is 4.\r\n",
        "    display_str_list: a list of strings for each bounding box.\r\n",
        "                           \r\n",
        "  Raises:\r\n",
        "    ValueError: if boxes is not a [N, 4] array\r\n",
        "  \"\"\"\r\n",
        "  boxes_shape = boxes.shape\r\n",
        "  if not boxes_shape:\r\n",
        "    return\r\n",
        "  if len(boxes_shape) != 2 or boxes_shape[1] != 4:\r\n",
        "    raise ValueError('Input must be of size [N, 4]')\r\n",
        "  for i in range(boxes_shape[0]):\r\n",
        "    draw_bounding_box_on_image(image, boxes[i, 1], boxes[i, 0], boxes[i, 3],\r\n",
        "                               boxes[i, 2], color[i], thickness, display_str_list[i])\r\n",
        "        \r\n",
        "def draw_bounding_box_on_image(image,\r\n",
        "                               ymin,\r\n",
        "                               xmin,\r\n",
        "                               ymax,\r\n",
        "                               xmax,\r\n",
        "                               color='red',\r\n",
        "                               thickness=1,\r\n",
        "                               display_str=None,\r\n",
        "                               use_normalized_coordinates=True):\r\n",
        "  \"\"\"Adds a bounding box to an image.\r\n",
        "  Bounding box coordinates can be specified in either absolute (pixel) or\r\n",
        "  normalized coordinates by setting the use_normalized_coordinates argument.\r\n",
        "  Args:\r\n",
        "    image: a PIL.Image object.\r\n",
        "    ymin: ymin of bounding box.\r\n",
        "    xmin: xmin of bounding box.\r\n",
        "    ymax: ymax of bounding box.\r\n",
        "    xmax: xmax of bounding box.\r\n",
        "    color: color to draw bounding box. Default is red.\r\n",
        "    thickness: line thickness. Default value is 4.\r\n",
        "    display_str_list: string to display in box\r\n",
        "    use_normalized_coordinates: If True (default), treat coordinates\r\n",
        "      ymin, xmin, ymax, xmax as relative to the image.  Otherwise treat\r\n",
        "      coordinates as absolute.\r\n",
        "  \"\"\"\r\n",
        "  draw = PIL.ImageDraw.Draw(image)\r\n",
        "  im_width, im_height = image.size\r\n",
        "  if use_normalized_coordinates:\r\n",
        "    (left, right, top, bottom) = (xmin * im_width, xmax * im_width,\r\n",
        "                                  ymin * im_height, ymax * im_height)\r\n",
        "  else:\r\n",
        "    (left, right, top, bottom) = (xmin, xmax, ymin, ymax)\r\n",
        "  draw.line([(left, top), (left, bottom), (right, bottom),\r\n",
        "             (right, top), (left, top)], width=thickness, fill=color)\r\n"
      ],
      "execution_count": null,
      "outputs": []
    },
    {
      "cell_type": "code",
      "metadata": {
        "id": "PI7LkzDxrlRS"
      },
      "source": [
        ""
      ],
      "execution_count": null,
      "outputs": []
    },
    {
      "cell_type": "code",
      "metadata": {
        "id": "Orl551OEUBIe"
      },
      "source": [
        "plt.rc('image', cmap='gray')\r\n",
        "plt.rc('grid', linewidth=0)\r\n",
        "plt.rc('xtick', top=False, bottom=False, labelsize='large')\r\n",
        "plt.rc('ytick', left=False, right=False, labelsize='large')\r\n",
        "plt.rc('axes', facecolor='F8F8F8', titlesize=\"large\", edgecolor='white')\r\n",
        "plt.rc('text', color='a8151a')\r\n",
        "plt.rc('figure', facecolor='F0F0F0')# Matplotlib fonts\r\n",
        "MATPLOTLIB_FONT_DIR = os.path.join(os.path.dirname(plt.__file__), \"mpl-data/fonts/ttf\")\r\n",
        "\r\n",
        "# pull a batch from the datasets. This code is not very nice, it gets much better in eager mode (TODO)\r\n",
        "def dataset_to_numpy_util(training_dataset, validation_dataset, N):\r\n",
        "  \r\n",
        "  # get one batch from each: 10000 validation digits, N training digits\r\n",
        "  batch_train_ds = training_dataset.unbatch().batch(N)\r\n",
        "  \r\n",
        "  # eager execution: loop through datasets normally\r\n",
        "  if tf.executing_eagerly():\r\n",
        "    for validation_digits, (validation_labels, validation_bboxes) in validation_dataset:\r\n",
        "      validation_digits = validation_digits.numpy()\r\n",
        "      validation_labels = validation_labels.numpy()\r\n",
        "      validation_bboxes = validation_bboxes.numpy()\r\n",
        "      break\r\n",
        "    for training_digits, (training_labels, training_bboxes) in batch_train_ds:\r\n",
        "      training_digits = training_digits.numpy()\r\n",
        "      training_labels = training_labels.numpy()\r\n",
        "      training_bboxes = training_bboxes.numpy()\r\n",
        "      break\r\n",
        "  \r\n",
        "  # these were one-hot encoded in the dataset\r\n",
        "  validation_labels = np.argmax(validation_labels, axis=1)\r\n",
        "  training_labels = np.argmax(training_labels, axis=1)\r\n",
        "  \r\n",
        "  return (training_digits, training_labels, training_bboxes,\r\n",
        "          validation_digits, validation_labels, validation_bboxes)\r\n",
        "\r\n",
        "# create digits from local fonts for testing\r\n",
        "def create_digits_from_local_fonts(n):\r\n",
        "  font_labels = []\r\n",
        "  img = PIL.Image.new('LA', (75*n, 75), color = (0,255)) # format 'LA': black in channel 0, alpha in channel 1\r\n",
        "  font1 = PIL.ImageFont.truetype(os.path.join(MATPLOTLIB_FONT_DIR, 'DejaVuSansMono-Oblique.ttf'), 25)\r\n",
        "  font2 = PIL.ImageFont.truetype(os.path.join(MATPLOTLIB_FONT_DIR, 'STIXGeneral.ttf'), 25)\r\n",
        "  d = PIL.ImageDraw.Draw(img)\r\n",
        "  for i in range(n):\r\n",
        "    font_labels.append(i%10)\r\n",
        "    d.text((7+i*75,0 if i<10 else -4), str(i%10), fill=(255,255), font=font1 if i<10 else font2)\r\n",
        "  font_digits = np.array(img.getdata(), np.float32)[:,0] / 255.0 # black in channel 0, alpha in channel 1 (discarded)\r\n",
        "  font_digits = np.reshape(np.stack(np.split(np.reshape(font_digits, [75, 75*n]), n, axis=1), axis=0), [n, 75*75])\r\n",
        "  return font_digits, font_labels\r\n",
        "\r\n",
        "\r\n",
        "# utility to display a row of digits with their predictions\r\n",
        "def display_digits_with_boxes(digits, predictions, labels, pred_bboxes, bboxes, iou, title):\r\n",
        "\r\n",
        "  n = 10\r\n",
        "\r\n",
        "  indexes = np.random.choice(len(predictions), size=n)\r\n",
        "  n_digits = digits[indexes]\r\n",
        "  n_predictions = predictions[indexes]\r\n",
        "  n_labels = labels[indexes]\r\n",
        "\r\n",
        "  n_iou = []\r\n",
        "  if len(iou) > 0:\r\n",
        "    n_iou = iou[indexes]\r\n",
        "\r\n",
        "  if (len(pred_bboxes) > 0):\r\n",
        "    n_pred_bboxes = pred_bboxes[indexes,:]\r\n",
        "\r\n",
        "  if (len(bboxes) > 0):\r\n",
        "    n_bboxes = bboxes[indexes,:]\r\n",
        "\r\n",
        "\r\n",
        "  n_digits = n_digits * 255.0\r\n",
        "  n_digits = n_digits.reshape(n, 75, 75)\r\n",
        "  fig = plt.figure(figsize=(20, 4))\r\n",
        "  plt.title(title)\r\n",
        "  plt.yticks([])\r\n",
        "  plt.xticks([])\r\n",
        "  \r\n",
        "  for i in range(10):\r\n",
        "    ax = fig.add_subplot(1, 10, i+1)\r\n",
        "    bboxes_to_plot = []\r\n",
        "    if (len(pred_bboxes) > i):\r\n",
        "      bboxes_to_plot.append(n_pred_bboxes[i])\r\n",
        "    \r\n",
        "    if (len(bboxes) > i):\r\n",
        "      bboxes_to_plot.append(n_bboxes[i])\r\n",
        "\r\n",
        "    img_to_draw = draw_bounding_boxes_on_image_array(image=n_digits[i], boxes=np.asarray(bboxes_to_plot), color=['red', 'green'], display_str_list=[\"true\", \"pred\"])\r\n",
        "    plt.xlabel(n_predictions[i])\r\n",
        "    plt.xticks([])\r\n",
        "    plt.yticks([])\r\n",
        "    \r\n",
        "    if n_predictions[i] != n_labels[i]:\r\n",
        "      ax.xaxis.label.set_color('red')\r\n",
        "\r\n",
        "    \r\n",
        "    \r\n",
        "    plt.imshow(img_to_draw)\r\n",
        "\r\n",
        "    if len(iou) > i :\r\n",
        "      color = \"black\"\r\n",
        "      if (n_iou[i][0] < iou_threshold):\r\n",
        "        color = \"red\"\r\n",
        "      ax.text(0.2, -0.3, \"iou: %s\" %(n_iou[i][0]), color=color, transform=ax.transAxes)\r\n",
        "\r\n",
        "\r\n",
        "# utility to display training and validation curves\r\n",
        "def plot_metrics(metric_name, title, ylim=5):\r\n",
        "  plt.title(title)\r\n",
        "  plt.ylim(0,ylim)\r\n",
        "  plt.plot(history.history[metric_name],color='blue',label=metric_name)\r\n",
        "  plt.plot(history.history['val_' + metric_name],color='green',label='val_' + metric_name)"
      ],
      "execution_count": null,
      "outputs": []
    },
    {
      "cell_type": "code",
      "metadata": {
        "colab": {
          "base_uri": "https://localhost:8080/"
        },
        "id": "uqPweVKsWyUx",
        "outputId": "3f245a5e-7a11-489a-cf52-5013b43b7c58"
      },
      "source": [
        "tpu_name = 'grpc://'+os.environ['COLAB_TPU_ADDR']\r\n",
        "tpu = tf.distribute.cluster_resolver.TPUClusterResolver(tpu_name)\r\n",
        "tf.config.experimental_connect_to_cluster(tpu)\r\n",
        "tf.tpu.experimental.initialize_tpu_system(tpu)\r\n",
        "strategy = tf.distribute.TPUStrategy(tpu)\r\n"
      ],
      "execution_count": null,
      "outputs": [
        {
          "output_type": "stream",
          "text": [
            "WARNING:tensorflow:TPU system grpc://10.63.114.122:8470 has already been initialized. Reinitializing the TPU can cause previously created variables on TPU to be lost.\n"
          ],
          "name": "stdout"
        },
        {
          "output_type": "stream",
          "text": [
            "WARNING:tensorflow:TPU system grpc://10.63.114.122:8470 has already been initialized. Reinitializing the TPU can cause previously created variables on TPU to be lost.\n"
          ],
          "name": "stderr"
        },
        {
          "output_type": "stream",
          "text": [
            "INFO:tensorflow:Initializing the TPU system: grpc://10.63.114.122:8470\n"
          ],
          "name": "stdout"
        },
        {
          "output_type": "stream",
          "text": [
            "INFO:tensorflow:Initializing the TPU system: grpc://10.63.114.122:8470\n"
          ],
          "name": "stderr"
        },
        {
          "output_type": "stream",
          "text": [
            "INFO:tensorflow:Clearing out eager caches\n"
          ],
          "name": "stdout"
        },
        {
          "output_type": "stream",
          "text": [
            "INFO:tensorflow:Clearing out eager caches\n"
          ],
          "name": "stderr"
        },
        {
          "output_type": "stream",
          "text": [
            "INFO:tensorflow:Finished initializing TPU system.\n"
          ],
          "name": "stdout"
        },
        {
          "output_type": "stream",
          "text": [
            "INFO:tensorflow:Finished initializing TPU system.\n"
          ],
          "name": "stderr"
        },
        {
          "output_type": "stream",
          "text": [
            "INFO:tensorflow:Found TPU system:\n"
          ],
          "name": "stdout"
        },
        {
          "output_type": "stream",
          "text": [
            "INFO:tensorflow:Found TPU system:\n"
          ],
          "name": "stderr"
        },
        {
          "output_type": "stream",
          "text": [
            "INFO:tensorflow:*** Num TPU Cores: 8\n"
          ],
          "name": "stdout"
        },
        {
          "output_type": "stream",
          "text": [
            "INFO:tensorflow:*** Num TPU Cores: 8\n"
          ],
          "name": "stderr"
        },
        {
          "output_type": "stream",
          "text": [
            "INFO:tensorflow:*** Num TPU Workers: 1\n"
          ],
          "name": "stdout"
        },
        {
          "output_type": "stream",
          "text": [
            "INFO:tensorflow:*** Num TPU Workers: 1\n"
          ],
          "name": "stderr"
        },
        {
          "output_type": "stream",
          "text": [
            "INFO:tensorflow:*** Num TPU Cores Per Worker: 8\n"
          ],
          "name": "stdout"
        },
        {
          "output_type": "stream",
          "text": [
            "INFO:tensorflow:*** Num TPU Cores Per Worker: 8\n"
          ],
          "name": "stderr"
        },
        {
          "output_type": "stream",
          "text": [
            "INFO:tensorflow:*** Available Device: _DeviceAttributes(/job:localhost/replica:0/task:0/device:CPU:0, CPU, 0, 0)\n"
          ],
          "name": "stdout"
        },
        {
          "output_type": "stream",
          "text": [
            "INFO:tensorflow:*** Available Device: _DeviceAttributes(/job:localhost/replica:0/task:0/device:CPU:0, CPU, 0, 0)\n"
          ],
          "name": "stderr"
        },
        {
          "output_type": "stream",
          "text": [
            "INFO:tensorflow:*** Available Device: _DeviceAttributes(/job:worker/replica:0/task:0/device:CPU:0, CPU, 0, 0)\n"
          ],
          "name": "stdout"
        },
        {
          "output_type": "stream",
          "text": [
            "INFO:tensorflow:*** Available Device: _DeviceAttributes(/job:worker/replica:0/task:0/device:CPU:0, CPU, 0, 0)\n"
          ],
          "name": "stderr"
        },
        {
          "output_type": "stream",
          "text": [
            "INFO:tensorflow:*** Available Device: _DeviceAttributes(/job:worker/replica:0/task:0/device:TPU:0, TPU, 0, 0)\n"
          ],
          "name": "stdout"
        },
        {
          "output_type": "stream",
          "text": [
            "INFO:tensorflow:*** Available Device: _DeviceAttributes(/job:worker/replica:0/task:0/device:TPU:0, TPU, 0, 0)\n"
          ],
          "name": "stderr"
        },
        {
          "output_type": "stream",
          "text": [
            "INFO:tensorflow:*** Available Device: _DeviceAttributes(/job:worker/replica:0/task:0/device:TPU:1, TPU, 0, 0)\n"
          ],
          "name": "stdout"
        },
        {
          "output_type": "stream",
          "text": [
            "INFO:tensorflow:*** Available Device: _DeviceAttributes(/job:worker/replica:0/task:0/device:TPU:1, TPU, 0, 0)\n"
          ],
          "name": "stderr"
        },
        {
          "output_type": "stream",
          "text": [
            "INFO:tensorflow:*** Available Device: _DeviceAttributes(/job:worker/replica:0/task:0/device:TPU:2, TPU, 0, 0)\n"
          ],
          "name": "stdout"
        },
        {
          "output_type": "stream",
          "text": [
            "INFO:tensorflow:*** Available Device: _DeviceAttributes(/job:worker/replica:0/task:0/device:TPU:2, TPU, 0, 0)\n"
          ],
          "name": "stderr"
        },
        {
          "output_type": "stream",
          "text": [
            "INFO:tensorflow:*** Available Device: _DeviceAttributes(/job:worker/replica:0/task:0/device:TPU:3, TPU, 0, 0)\n"
          ],
          "name": "stdout"
        },
        {
          "output_type": "stream",
          "text": [
            "INFO:tensorflow:*** Available Device: _DeviceAttributes(/job:worker/replica:0/task:0/device:TPU:3, TPU, 0, 0)\n"
          ],
          "name": "stderr"
        },
        {
          "output_type": "stream",
          "text": [
            "INFO:tensorflow:*** Available Device: _DeviceAttributes(/job:worker/replica:0/task:0/device:TPU:4, TPU, 0, 0)\n"
          ],
          "name": "stdout"
        },
        {
          "output_type": "stream",
          "text": [
            "INFO:tensorflow:*** Available Device: _DeviceAttributes(/job:worker/replica:0/task:0/device:TPU:4, TPU, 0, 0)\n"
          ],
          "name": "stderr"
        },
        {
          "output_type": "stream",
          "text": [
            "INFO:tensorflow:*** Available Device: _DeviceAttributes(/job:worker/replica:0/task:0/device:TPU:5, TPU, 0, 0)\n"
          ],
          "name": "stdout"
        },
        {
          "output_type": "stream",
          "text": [
            "INFO:tensorflow:*** Available Device: _DeviceAttributes(/job:worker/replica:0/task:0/device:TPU:5, TPU, 0, 0)\n"
          ],
          "name": "stderr"
        },
        {
          "output_type": "stream",
          "text": [
            "INFO:tensorflow:*** Available Device: _DeviceAttributes(/job:worker/replica:0/task:0/device:TPU:6, TPU, 0, 0)\n"
          ],
          "name": "stdout"
        },
        {
          "output_type": "stream",
          "text": [
            "INFO:tensorflow:*** Available Device: _DeviceAttributes(/job:worker/replica:0/task:0/device:TPU:6, TPU, 0, 0)\n"
          ],
          "name": "stderr"
        },
        {
          "output_type": "stream",
          "text": [
            "INFO:tensorflow:*** Available Device: _DeviceAttributes(/job:worker/replica:0/task:0/device:TPU:7, TPU, 0, 0)\n"
          ],
          "name": "stdout"
        },
        {
          "output_type": "stream",
          "text": [
            "INFO:tensorflow:*** Available Device: _DeviceAttributes(/job:worker/replica:0/task:0/device:TPU:7, TPU, 0, 0)\n"
          ],
          "name": "stderr"
        },
        {
          "output_type": "stream",
          "text": [
            "INFO:tensorflow:*** Available Device: _DeviceAttributes(/job:worker/replica:0/task:0/device:TPU_SYSTEM:0, TPU_SYSTEM, 0, 0)\n"
          ],
          "name": "stdout"
        },
        {
          "output_type": "stream",
          "text": [
            "INFO:tensorflow:*** Available Device: _DeviceAttributes(/job:worker/replica:0/task:0/device:TPU_SYSTEM:0, TPU_SYSTEM, 0, 0)\n"
          ],
          "name": "stderr"
        },
        {
          "output_type": "stream",
          "text": [
            "INFO:tensorflow:*** Available Device: _DeviceAttributes(/job:worker/replica:0/task:0/device:XLA_CPU:0, XLA_CPU, 0, 0)\n"
          ],
          "name": "stdout"
        },
        {
          "output_type": "stream",
          "text": [
            "INFO:tensorflow:*** Available Device: _DeviceAttributes(/job:worker/replica:0/task:0/device:XLA_CPU:0, XLA_CPU, 0, 0)\n"
          ],
          "name": "stderr"
        }
      ]
    },
    {
      "cell_type": "code",
      "metadata": {
        "colab": {
          "base_uri": "https://localhost:8080/"
        },
        "id": "b2fcHy8IaT0R",
        "outputId": "cce78308-0d95-47fd-e7d6-c837d0e60586"
      },
      "source": [
        "print('Running on TPU:',tpu.cluster_spec().as_dict()['worker'])\r\n",
        "print('Number of Accelerators :',strategy.num_replicas_in_sync)"
      ],
      "execution_count": null,
      "outputs": [
        {
          "output_type": "stream",
          "text": [
            "Running on TPU: ['10.63.114.122:8470']\n",
            "Number of Accelerators : 8\n"
          ],
          "name": "stdout"
        }
      ]
    },
    {
      "cell_type": "code",
      "metadata": {
        "id": "FvJUQsm_cS4I"
      },
      "source": [
        "batch_size = 64*strategy.num_replicas_in_sync"
      ],
      "execution_count": null,
      "outputs": []
    },
    {
      "cell_type": "code",
      "metadata": {
        "id": "oBZUPVmccmDz"
      },
      "source": [
        "\r\n",
        "def read_image_tfds(image, label):\r\n",
        "    xmin = tf.random.uniform((), 0 , 48, dtype=tf.int32)\r\n",
        "    ymin = tf.random.uniform((), 0 , 48, dtype=tf.int32)\r\n",
        "    image = tf.reshape(image, (28,28,1,))\r\n",
        "    image = tf.image.pad_to_bounding_box(image, ymin, xmin, 75, 75)\r\n",
        "    image = tf.cast(image, tf.float32)/255.0\r\n",
        "    xmin = tf.cast(xmin, tf.float32)\r\n",
        "    ymin = tf.cast(ymin, tf.float32)\r\n",
        "   \r\n",
        "    xmax = (xmin + 28) / 75\r\n",
        "    ymax = (ymin + 28) / 75\r\n",
        "    xmin = xmin / 75\r\n",
        "    ymin = ymin / 75\r\n",
        "    return image, (tf.one_hot(label, 10), [xmin, ymin, xmax, ymax])"
      ],
      "execution_count": null,
      "outputs": []
    },
    {
      "cell_type": "code",
      "metadata": {
        "id": "OSuYtHTVjG7l"
      },
      "source": [
        "def get_training_dataset():\r\n",
        "  with  strategy.scope():\r\n",
        "        dataset = tfds.load(\"mnist\", split=\"train\", as_supervised=True, try_gcs=True)\r\n",
        "        dataset = dataset.map(read_image_tfds, num_parallel_calls=16)\r\n",
        "        dataset = dataset.shuffle(5000, reshuffle_each_iteration=True)\r\n",
        "        dataset = dataset.repeat() # Mandatory for Keras for now\r\n",
        "        dataset = dataset.batch(batch_size, drop_remainder=True) # drop_remainder is important on TPU, batch size must be fixed\r\n",
        "        dataset = dataset.prefetch(-1)  # fetch next batches while training on the current one (-1: autotune prefetch buffer size)\r\n",
        "  return dataset\r\n",
        "def get_validation_dataset():\r\n",
        "    dataset = tfds.load(\"mnist\", split=\"test\", as_supervised=True, try_gcs=True)\r\n",
        "    dataset = dataset.map(read_image_tfds, num_parallel_calls=16)\r\n",
        "\r\n",
        "    #dataset = dataset.cache() # this small dataset can be entirely cached in RAM\r\n",
        "    dataset = dataset.batch(10000, drop_remainder=True) # 10000 items in eval dataset, all in one batch\r\n",
        "    dataset = dataset.repeat() # Mandatory for Keras for now\r\n",
        "    return dataset\r\n"
      ],
      "execution_count": null,
      "outputs": []
    },
    {
      "cell_type": "code",
      "metadata": {
        "id": "nQUgXSwMpnir"
      },
      "source": [
        "with strategy.scope():\r\n",
        "  train_dataset = get_training_dataset()\r\n",
        "  validation_dataset = get_validation_dataset()\r\n"
      ],
      "execution_count": null,
      "outputs": []
    },
    {
      "cell_type": "code",
      "metadata": {
        "colab": {
          "base_uri": "https://localhost:8080/",
          "height": 511
        },
        "id": "Wn6tGcj4ruuY",
        "outputId": "3ba07e6e-c272-465d-dd78-d12c11f2eb8b"
      },
      "source": [
        "(training_digits,training_labels,training_boxes,validation_digits,validation_labels,validation_boxes) = dataset_to_numpy_util(train_dataset,validation_dataset,10)\r\n",
        "display_digits_with_boxes(training_digits,training_labels,training_labels,np.array([]),training_boxes,np.array([]),'training_digit and their labels')\r\n",
        "display_digits_with_boxes(validation_digits,validation_labels,validation_labels,np.array([]),validation_boxes,np.array([]),'validation_digit and their labels')"
      ],
      "execution_count": null,
      "outputs": [
        {
          "output_type": "display_data",
          "data": {
            "image/png": "[encoded data removed]",
            "text/plain": [
              "<Figure size 1440x288 with 11 Axes>"
            ]
          },
          "metadata": {
            "tags": []
          }
        },
        {
          "output_type": "display_data",
          "data": {
            "image/png": "[encoded data removed]",
            "text/plain": [
              "<Figure size 1440x288 with 11 Axes>"
            ]
          },
          "metadata": {
            "tags": []
          }
        }
      ]
    },
    {
      "cell_type": "code",
      "metadata": {
        "id": "2ZR6j4YYuoY1"
      },
      "source": [
        "def feature_extractor(inputs):\r\n",
        "  x = tf.keras.layers.Conv2D(16,kernel_size=3,activation='relu',input_shape=(75,75,1))(inputs)\r\n",
        "  x = tf.keras.layers.AveragePooling2D((2,2))(x)\r\n",
        "  x = tf.keras.layers.Conv2D(32,kernel_size=3,activation='relu')(x)\r\n",
        "  x = tf.keras.layers.AveragePooling2D((2,2))(x)\r\n",
        "  x = tf.keras.layers.Conv2D(64,kernel_size=3,activation='relu')(x)\r\n",
        "  x = tf.keras.layers.AveragePooling2D((2,2))(x)\r\n",
        "  return x\r\n"
      ],
      "execution_count": null,
      "outputs": []
    },
    {
      "cell_type": "code",
      "metadata": {
        "id": "C6ovlksC3LhS"
      },
      "source": [
        "def dense_layer(inputs):\r\n",
        "  x = tf.keras.layers.Flatten()(inputs)\r\n",
        "  x = tf.keras.layers.Dense(128,activation='relu')(x)\r\n",
        "  return x"
      ],
      "execution_count": null,
      "outputs": []
    },
    {
      "cell_type": "code",
      "metadata": {
        "id": "iqGn5Es84F5D"
      },
      "source": [
        "def classification_model(inputs):\r\n",
        "  x = tf.keras.layers.Dense(10,activation='softmax',name='classification')(inputs)\r\n",
        "  return x"
      ],
      "execution_count": null,
      "outputs": []
    },
    {
      "cell_type": "code",
      "metadata": {
        "id": "rkBo9iu44QhV"
      },
      "source": [
        "def bounding_box_regression(inputs):\r\n",
        "  x = tf.keras.layers.Dense(units = '4',name='bounding_box')(inputs)\r\n",
        "  return x "
      ],
      "execution_count": null,
      "outputs": []
    },
    {
      "cell_type": "code",
      "metadata": {
        "id": "8p7QJOkh6DO6"
      },
      "source": [
        "def final_model(inputs):\r\n",
        "  feature_extractors = feature_extractor(inputs)\r\n",
        "  dense_layers = dense_layer(feature_extractors)\r\n",
        "  output1 = classification_model(dense_layers)\r\n",
        "  output2 = bounding_box_regression(dense_layers)\r\n",
        "  model = tf.keras.Model(inputs=inputs,outputs=[output1,output2])\r\n",
        "  return model"
      ],
      "execution_count": null,
      "outputs": []
    },
    {
      "cell_type": "code",
      "metadata": {
        "id": "C8WJ297b61Rf"
      },
      "source": [
        "def define_and_compile_model(inputs):\r\n",
        "  model = final_model(inputs)\r\n",
        "  model.compile(loss={\r\n",
        "      'classification': 'categorical_crossentropy',\r\n",
        "      'bounding_box': 'mse'\r\n",
        "  },optimizer='adam',metrics = {\r\n",
        "      'classification':'accuracy',\r\n",
        "      'bounding_box':'mse'\r\n",
        "  })\r\n",
        "  return model"
      ],
      "execution_count": null,
      "outputs": []
    },
    {
      "cell_type": "code",
      "metadata": {
        "colab": {
          "base_uri": "https://localhost:8080/"
        },
        "id": "4aO0OqYk708y",
        "outputId": "43c62309-01e8-4a53-e7f6-63fa94a314b2"
      },
      "source": [
        "with strategy.scope():\r\n",
        "  inputs = tf.keras.layers.Input(shape=(75, 75, 1,))\r\n",
        "  model = define_and_compile_model(inputs)\r\n",
        "model.summary()"
      ],
      "execution_count": null,
      "outputs": [
        {
          "output_type": "stream",
          "text": [
            "Model: \"model_2\"\n",
            "__________________________________________________________________________________________________\n",
            "Layer (type)                    Output Shape         Param #     Connected to                     \n",
            "==================================================================================================\n",
            "input_5 (InputLayer)            [(None, 75, 75, 1)]  0                                            \n",
            "__________________________________________________________________________________________________\n",
            "conv2d_9 (Conv2D)               (None, 73, 73, 16)   160         input_5[0][0]                    \n",
            "__________________________________________________________________________________________________\n",
            "average_pooling2d_9 (AveragePoo (None, 36, 36, 16)   0           conv2d_9[0][0]                   \n",
            "__________________________________________________________________________________________________\n",
            "conv2d_10 (Conv2D)              (None, 34, 34, 32)   4640        average_pooling2d_9[0][0]        \n",
            "__________________________________________________________________________________________________\n",
            "average_pooling2d_10 (AveragePo (None, 17, 17, 32)   0           conv2d_10[0][0]                  \n",
            "__________________________________________________________________________________________________\n",
            "conv2d_11 (Conv2D)              (None, 15, 15, 64)   18496       average_pooling2d_10[0][0]       \n",
            "__________________________________________________________________________________________________\n",
            "average_pooling2d_11 (AveragePo (None, 7, 7, 64)     0           conv2d_11[0][0]                  \n",
            "__________________________________________________________________________________________________\n",
            "flatten_2 (Flatten)             (None, 3136)         0           average_pooling2d_11[0][0]       \n",
            "__________________________________________________________________________________________________\n",
            "dense_2 (Dense)                 (None, 128)          401536      flatten_2[0][0]                  \n",
            "__________________________________________________________________________________________________\n",
            "classification (Dense)          (None, 10)           1290        dense_2[0][0]                    \n",
            "__________________________________________________________________________________________________\n",
            "bounding_box (Dense)            (None, 4)            516         dense_2[0][0]                    \n",
            "==================================================================================================\n",
            "Total params: 426,638\n",
            "Trainable params: 426,638\n",
            "Non-trainable params: 0\n",
            "__________________________________________________________________________________________________\n"
          ],
          "name": "stdout"
        }
      ]
    },
    {
      "cell_type": "code",
      "metadata": {
        "colab": {
          "base_uri": "https://localhost:8080/",
          "height": 671
        },
        "id": "8m1S-Vv68LGK",
        "outputId": "de08e200-fbc1-44ac-f1a4-07f61b2e63e7"
      },
      "source": [
        "epochs =10 \r\n",
        "steps_per_epoch= 60000/batch_size\r\n",
        "validation_steps =1\r\n",
        "history= model.fit(train_dataset,steps_per_epoch=steps_per_epoch,epochs=epochs,validation_steps=validation_steps,validation_data=(validation_dataset))\r\n",
        "loss,classification_loss,bounding_box_loss,classification_accuracy,bounding_box_mse =model.evaluate(validation_dataset,steps=1)\r\n",
        "print('validation_accuracy',classification_accuracy)\r\n",
        "plot_metrics('classification_loss','Classification Loss')\r\n",
        "plot_metrics('bounding_box_loss','Bounding Box Loss')"
      ],
      "execution_count": null,
      "outputs": [
        {
          "output_type": "stream",
          "text": [
            "Epoch 1/10\n",
            "117/117 [==============================] - 4s 36ms/step - loss: 0.6428 - classification_loss: 0.5572 - bounding_box_loss: 0.0856 - classification_accuracy: 0.8315 - bounding_box_mse: 0.0856 - val_loss: 0.4795 - val_classification_loss: 0.3957 - val_bounding_box_loss: 0.0839 - val_classification_accuracy: 0.8762 - val_bounding_box_mse: 0.0839\n",
            "Epoch 2/10\n",
            "117/117 [==============================] - 4s 35ms/step - loss: 0.4627 - classification_loss: 0.3782 - bounding_box_loss: 0.0845 - classification_accuracy: 0.8880 - bounding_box_mse: 0.0845 - val_loss: 0.3965 - val_classification_loss: 0.3121 - val_bounding_box_loss: 0.0844 - val_classification_accuracy: 0.9072 - val_bounding_box_mse: 0.0844\n",
            "Epoch 3/10\n",
            "117/117 [==============================] - 4s 35ms/step - loss: 0.3951 - classification_loss: 0.3108 - bounding_box_loss: 0.0843 - classification_accuracy: 0.9075 - bounding_box_mse: 0.0843 - val_loss: 0.3494 - val_classification_loss: 0.2648 - val_bounding_box_loss: 0.0846 - val_classification_accuracy: 0.9236 - val_bounding_box_mse: 0.0846\n",
            "Epoch 4/10\n",
            "117/117 [==============================] - 4s 35ms/step - loss: 0.3491 - classification_loss: 0.2656 - bounding_box_loss: 0.0836 - classification_accuracy: 0.9206 - bounding_box_mse: 0.0836 - val_loss: 0.3102 - val_classification_loss: 0.2265 - val_bounding_box_loss: 0.0837 - val_classification_accuracy: 0.9310 - val_bounding_box_mse: 0.0837\n",
            "Epoch 5/10\n",
            "117/117 [==============================] - 4s 35ms/step - loss: 0.3239 - classification_loss: 0.2406 - bounding_box_loss: 0.0833 - classification_accuracy: 0.9272 - bounding_box_mse: 0.0833 - val_loss: 0.2787 - val_classification_loss: 0.1966 - val_bounding_box_loss: 0.0821 - val_classification_accuracy: 0.9415 - val_bounding_box_mse: 0.0821\n",
            "Epoch 6/10\n",
            "117/117 [==============================] - 4s 35ms/step - loss: 0.3045 - classification_loss: 0.2203 - bounding_box_loss: 0.0842 - classification_accuracy: 0.9331 - bounding_box_mse: 0.0842 - val_loss: 0.2689 - val_classification_loss: 0.1850 - val_bounding_box_loss: 0.0839 - val_classification_accuracy: 0.9441 - val_bounding_box_mse: 0.0839\n",
            "Epoch 7/10\n",
            "117/117 [==============================] - 4s 35ms/step - loss: 0.2811 - classification_loss: 0.1979 - bounding_box_loss: 0.0833 - classification_accuracy: 0.9406 - bounding_box_mse: 0.0833 - val_loss: 0.2922 - val_classification_loss: 0.2082 - val_bounding_box_loss: 0.0839 - val_classification_accuracy: 0.9354 - val_bounding_box_mse: 0.0839\n",
            "Epoch 8/10\n",
            "117/117 [==============================] - 4s 35ms/step - loss: 0.2784 - classification_loss: 0.1953 - bounding_box_loss: 0.0831 - classification_accuracy: 0.9413 - bounding_box_mse: 0.0831 - val_loss: 0.2456 - val_classification_loss: 0.1627 - val_bounding_box_loss: 0.0828 - val_classification_accuracy: 0.9511 - val_bounding_box_mse: 0.0828\n",
            "Epoch 9/10\n",
            "117/117 [==============================] - 4s 35ms/step - loss: 0.2591 - classification_loss: 0.1762 - bounding_box_loss: 0.0829 - classification_accuracy: 0.9475 - bounding_box_mse: 0.0829 - val_loss: 0.2315 - val_classification_loss: 0.1484 - val_bounding_box_loss: 0.0831 - val_classification_accuracy: 0.9554 - val_bounding_box_mse: 0.0831\n",
            "Epoch 10/10\n",
            "117/117 [==============================] - 4s 35ms/step - loss: 0.2502 - classification_loss: 0.1674 - bounding_box_loss: 0.0828 - classification_accuracy: 0.9501 - bounding_box_mse: 0.0828 - val_loss: 0.2296 - val_classification_loss: 0.1461 - val_bounding_box_loss: 0.0835 - val_classification_accuracy: 0.9538 - val_bounding_box_mse: 0.0835\n",
            "1/1 [==============================] - 1s 760ms/step - loss: 0.2282 - classification_loss: 0.1457 - bounding_box_loss: 0.0824 - classification_accuracy: 0.9548 - bounding_box_mse: 0.0824\n",
            "validation_accuracy 0.9547999501228333\n"
          ],
          "name": "stdout"
        },
        {
          "output_type": "display_data",
          "data": {
            "image/png": "[encoded data removed]",
            "text/plain": [
              "<Figure size 432x288 with 1 Axes>"
            ]
          },
          "metadata": {
            "tags": []
          }
        }
      ]
    },
    {
      "cell_type": "code",
      "metadata": {
        "id": "STYKB0nkBFOP"
      },
      "source": [
        "def intersection_over_union(pred_box,true_box):\r\n",
        "  xmin_pred,ymin_pred,xmax_pred,ymax_pred= np.split(pred_box,4,axis=1)\r\n",
        "  xmin_true,ymin_true,xmax_true,ymax_true = np.split(true_box,4,axis=1)\r\n",
        "  smoothing_factor = 1e-10\r\n",
        "  xmin_overlap = np.maximum(xmin_pred,xmin_true)\r\n",
        "  xmax_overlap = np.maximum(xmax_pred,xmax_true)\r\n",
        "  ymin_overlap = np.maximum(ymin_pred,ymin_true)\r\n",
        "  ymax_overlap = np.maximum(ymax_pred,ymax_true)\r\n",
        "  pred_box_area = (xmax_pred - xmin_pred)*(ymax_pred-ymin_pred)\r\n",
        "  true_box_area = (xmax_true-xmin_true)*(ymax_true-ymin_true)\r\n",
        "  overlap_area = np.argmax((xmax_overlap-xmin_overlap),0)*np.argmax((ymax_overlap-ymin_overlap),0)\r\n",
        "  union_area = (pred_box_area+true_box_area)-overlap_area\r\n",
        "  iou = (overlap_area + smoothing_factor)/(union_area+smoothing_factor)\r\n",
        "  return iou\r\n",
        "  "
      ],
      "execution_count": null,
      "outputs": []
    },
    {
      "cell_type": "code",
      "metadata": {
        "colab": {
          "base_uri": "https://localhost:8080/",
          "height": 297
        },
        "id": "MInXpd7bGHNa",
        "outputId": "4ddbc254-b5f6-466e-a6e5-2cf7c37eaff0"
      },
      "source": [
        "predictions = model.predict(validation_digits,batch_size=64)\r\n",
        "predicted_labels = np.argmax(predictions[0],axis=1)\r\n",
        "prediction_boxes = predictions[1]\r\n",
        "iou = intersection_over_union(prediction_boxes,validation_boxes)\r\n",
        "iou_threshold = 0.6\r\n",
        "\r\n",
        "\r\n",
        "print(\"Number of predictions where iou > threshold(%s): %s\" % (iou_threshold, (iou >= iou_threshold).sum()))\r\n",
        "print(\"Number of predictions where iou < threshold(%s): %s\" % (iou_threshold, (iou < iou_threshold).sum()))\r\n",
        "\r\n",
        "\r\n",
        "display_digits_with_boxes(validation_digits, predicted_labels, validation_labels, prediction_boxes, validation_boxes, iou, \"True and Predicted values\")"
      ],
      "execution_count": null,
      "outputs": [
        {
          "output_type": "stream",
          "text": [
            "Number of predictions where iou > threshold(0.6): 0\n",
            "Number of predictions where iou < threshold(0.6): 10000\n"
          ],
          "name": "stdout"
        },
        {
          "output_type": "display_data",
          "data": {
            "image/png": "[encoded data removed]",
            "text/plain": [
              "<Figure size 1440x288 with 11 Axes>"
            ]
          },
          "metadata": {
            "tags": []
          }
        }
      ]
    },
    {
      "cell_type": "code",
      "metadata": {
        "id": "sN2NF_H9Gou4"
      },
      "source": [
        ""
      ],
      "execution_count": null,
      "outputs": []
    }
  ]
}